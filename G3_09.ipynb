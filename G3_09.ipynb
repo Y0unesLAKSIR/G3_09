{
 "cells": [
  {
   "cell_type": "markdown",
   "metadata": {},
   "source": [
    "- Younes LAKSIR\n",
    "- Mohamed Reda BOUATAOUI\n",
    "- Hamza ElAtifi\n",
    "\n",
    "G3_09"
   ]
  },
  {
   "cell_type": "markdown",
   "metadata": {},
   "source": [
    "- Top 5 des meilleures catégories."
   ]
  },
  {
   "cell_type": "code",
   "execution_count": 39,
   "metadata": {},
   "outputs": [
    {
     "name": "stdout",
     "output_type": "stream",
     "text": [
      " International Movies\n",
      "Dramas\n",
      "Comedies\n",
      "Action & Adventure\n",
      "Documentaries\n"
     ]
    }
   ],
   "source": [
    "import pandas as pd\n",
    "from collections import Counter\n",
    "\n",
    "df = pd.read_csv('netflix.csv')\n",
    "\n",
    "categories = df['listed_in']\n",
    "\n",
    "all_categories = [category for categories_str in categories for category in categories_str.split(',')]\n",
    "\n",
    "category_counts = Counter(all_categories)\n",
    "\n",
    "top_categories = category_counts.most_common(5)\n",
    "\n",
    "for category, count in top_categories:\n",
    "    print(f\"{category}\")\n"
   ]
  },
  {
   "cell_type": "markdown",
   "metadata": {},
   "source": [
    "• Top 5 des réalisateurs."
   ]
  },
  {
   "cell_type": "code",
   "execution_count": 40,
   "metadata": {},
   "outputs": [
    {
     "name": "stdout",
     "output_type": "stream",
     "text": [
      "Rajiv Chilaka\n",
      "Raúl Campos\n",
      " Jan Suter\n",
      "Suhas Kadav\n",
      "Marcus Raboy\n"
     ]
    }
   ],
   "source": [
    "import pandas as pd\n",
    "from collections import Counter\n",
    "\n",
    "df = pd.read_csv('netflix.csv')\n",
    "\n",
    "realisateurs = df['director']\n",
    "\n",
    "realisateurs = realisateurs.dropna()\n",
    "\n",
    "tous_realisateurs = [realisateur for liste_realisateurs in realisateurs for realisateur in liste_realisateurs.split(',')]\n",
    "\n",
    "comptes_realisateurs = Counter(tous_realisateurs)\n",
    "\n",
    "top_realisateurs = comptes_realisateurs.most_common(5)\n",
    "\n",
    "for realisateur, compte in top_realisateurs:\n",
    "    print(f\"{realisateur}\")\n"
   ]
  },
  {
   "cell_type": "markdown",
   "metadata": {},
   "source": [
    "• Les dix meilleurs acteurs"
   ]
  },
  {
   "cell_type": "code",
   "execution_count": 41,
   "metadata": {},
   "outputs": [
    {
     "name": "stdout",
     "output_type": "stream",
     "text": [
      " Anupam Kher\n",
      " Rupa Bhimani\n",
      " Takahiro Sakurai\n",
      " Julie Tejwani\n",
      " Om Puri\n",
      " Rajesh Kava\n",
      "Shah Rukh Khan\n",
      " Andrea Libman\n",
      " Yuki Kaji\n",
      " Boman Irani\n"
     ]
    }
   ],
   "source": [
    "import pandas as pd\n",
    "from collections import Counter\n",
    "\n",
    "df = pd.read_csv('netflix.csv')\n",
    "\n",
    "acteurs = df['cast']\n",
    "\n",
    "acteurs = acteurs.dropna()\n",
    "\n",
    "tous_acteurs = [acteur for liste_acteurs in acteurs for acteur in liste_acteurs.split(',')]\n",
    "\n",
    "comptes_acteurs = Counter(tous_acteurs)\n",
    "\n",
    "top_acteurs = comptes_acteurs.most_common(10)\n",
    "\n",
    "for acteur, compte in top_acteurs:\n",
    "    print(f\"{acteur}\")"
   ]
  },
  {
   "cell_type": "markdown",
   "metadata": {},
   "source": [
    "• Les cinq meilleures séries télévisées avec le plus grand nombre de saisons."
   ]
  },
  {
   "cell_type": "code",
   "execution_count": 42,
   "metadata": {},
   "outputs": [
    {
     "name": "stdout",
     "output_type": "stream",
     "text": [
      "Les 5 meilleures séries télévisées avec le plus grand nombre de saisons :\n",
      "               title  season_count\n",
      "843   Grey's Anatomy            17\n",
      "1475            NCIS            15\n",
      "1999    Supernatural            15\n",
      "1745    Red vs. Blue            13\n",
      "891        Heartland            13\n"
     ]
    }
   ],
   "source": [
    "import pandas as pd\n",
    "\n",
    "df = pd.read_csv('netflix.csv')\n",
    "\n",
    "tv_shows = df[df['type'] == 'TV Show']\n",
    "\n",
    "tv_shows = tv_shows.assign(season_count=tv_shows['duration'].str.extract(r'(\\d+) Season', expand=False).fillna(1).astype(int))\n",
    "\n",
    "season_counts = tv_shows.groupby('title')['season_count'].max().reset_index()\n",
    "\n",
    "season_counts = season_counts.sort_values('season_count', ascending=False)\n",
    "\n",
    "top_5_tv_shows = season_counts.head(5)\n",
    "print(\"Les 5 meilleures séries télévisées avec le plus grand nombre de saisons :\")\n",
    "print(top_5_tv_shows)"
   ]
  },
  {
   "cell_type": "markdown",
   "metadata": {},
   "source": [
    "• Identifier des contenus similaires en faisant correspondre des caractéristiques textuelles"
   ]
  },
  {
   "cell_type": "code",
   "execution_count": 43,
   "metadata": {},
   "outputs": [
    {
     "name": "stdout",
     "output_type": "stream",
     "text": [
      "                         title     type  release_year\n",
      "4733             Rowdy Rathore    Movie          2012\n",
      "1240                Safe Haven    Movie          2013\n",
      "1487           Sakho & Mangane  TV Show          2019\n",
      "8198   The Autopsy of Jane Doe    Movie          2016\n",
      "2419             Big Stone Gap    Movie          2014\n",
      "6518          Come and Find Me    Movie          2016\n",
      "6760                 FirstBorn    Movie          2016\n",
      "8026           Sinister Circle    Movie          2017\n",
      "4201               Hardy Bucks  TV Show          2018\n",
      "1270  Sin senos sí hay paraíso  TV Show          2018\n"
     ]
    }
   ],
   "source": [
    "import pandas as pd\n",
    "from sklearn.feature_extraction.text import TfidfVectorizer\n",
    "from sklearn.metrics.pairwise import linear_kernel\n",
    "\n",
    "df = pd.read_csv('netflix.csv')\n",
    "\n",
    "df['description'] = df['description'].fillna('')\n",
    "\n",
    "tfidf = TfidfVectorizer(stop_words='english')\n",
    "tfidf_matrix = tfidf.fit_transform(df['description'])\n",
    "\n",
    "cosine_sim = linear_kernel(tfidf_matrix, tfidf_matrix)\n",
    "\n",
    "def get_similar_content(title, cosine_sim=cosine_sim):\n",
    "    indices = pd.Series(df.index, index=df['title'])\n",
    "    idx = indices[title]\n",
    "    sim_scores = list(enumerate(cosine_sim[idx]))\n",
    "    sim_scores = sorted(sim_scores, key=lambda x: x[1], reverse=True)\n",
    "    sim_scores = sim_scores[1:11]\n",
    "    content_indices = [i[0] for i in sim_scores]\n",
    "    return df.iloc[content_indices]\n",
    "\n",
    "similar_content = get_similar_content('Stranger Things')\n",
    "print(similar_content[['title', 'type', 'release_year']])"
   ]
  },
  {
   "cell_type": "markdown",
   "metadata": {},
   "source": [
    "• Netflix se concentre-t-il davantage sur les séries télévisées que sur les films ces dernières années ?"
   ]
  },
  {
   "cell_type": "code",
   "execution_count": 44,
   "metadata": {},
   "outputs": [
    {
     "data": {
      "image/png": "[encoded data removed]",
      "text/plain": [
       "<Figure size 1000x600 with 1 Axes>"
      ]
     },
     "metadata": {},
     "output_type": "display_data"
    }
   ],
   "source": [
    "import pandas as pd\n",
    "import matplotlib.pyplot as plt\n",
    "from datetime import datetime\n",
    "\n",
    "df = pd.read_csv('netflix.csv')\n",
    "\n",
    "df['release_year'] = pd.to_numeric(df['release_year'], errors='coerce')\n",
    "\n",
    "max_year = df['release_year'].max()\n",
    "recent_years = datetime(max_year, 1, 1) - pd.DateOffset(years=4)\n",
    "df = df[df['release_year'] >= recent_years.year]\n",
    "\n",
    "series_count = df[df['type'] == 'TV Show'].groupby('release_year').size()\n",
    "movie_count = df[df['type'] == 'Movie'].groupby('release_year').size()\n",
    "\n",
    "fig, ax = plt.subplots(figsize=(10, 6))\n",
    "ax.plot(series_count.index, series_count.values, label='Séries télévisées')\n",
    "ax.plot(movie_count.index, movie_count.values, label='Films')\n",
    "ax.legend()\n",
    "ax.set_xlabel('Année de sortie')\n",
    "ax.set_ylabel('Nombre de titres')\n",
    "ax.set_title('Tendances des séries télévisées et des films sur Netflix')\n",
    "plt.show()"
   ]
  }
 ],
 "metadata": {
  "kernelspec": {
   "display_name": "Python 3",
   "language": "python",
   "name": "python3"
  },
  "language_info": {
   "codemirror_mode": {
    "name": "ipython",
    "version": 3
   },
   "file_extension": ".py",
   "mimetype": "text/x-python",
   "name": "python",
   "nbconvert_exporter": "python",
   "pygments_lexer": "ipython3",
   "version": "3.12.1"
  }
 },
 "nbformat": 4,
 "nbformat_minor": 2
}
